{
 "cells": [
  {
   "cell_type": "code",
   "execution_count": 7,
   "metadata": {},
   "outputs": [],
   "source": [
    "import pandas as pd\n",
    "training_data = \"../Data/training_binary.csv\"\n",
    "data = pd.read_csv(training_data)"
   ]
  },
  {
   "cell_type": "code",
   "execution_count": null,
   "metadata": {},
   "outputs": [],
   "source": [
    "%matplotlib inline\n",
    "import matplotlib.pyplot as plt\n",
    "import sklearn.cluster\n",
    "from Toolbox.clusterPlot import clusterPlot\n",
    "X_data = data.drop(['cuisine', 'id'],axis=1)\n",
    "y_data = data['cuisine']\n",
    "kmeans = sklearn.cluster.KMeans(n_clusters = 20).fit(y_data)\n",
    "ClustX = kmeans.labels_\n",
    "Centroids = kmeans.cluster_centers_\n",
    "plt.figure()\n",
    "clusterPlot(y_data, ClustX,Centroids,X_data)\n",
    "plt.title('Clustering of synth1 data')\n",
    "plt.xlabel('X')\n",
    "plt.ylabel('y')\n",
    "plt.show()"
   ]
  },
  {
   "cell_type": "code",
   "execution_count": null,
   "metadata": {},
   "outputs": [],
   "source": []
  }
 ],
 "metadata": {
  "kernelspec": {
   "display_name": "Python 3",
   "language": "python",
   "name": "python3"
  }
 },
 "nbformat": 4,
 "nbformat_minor": 2
}
